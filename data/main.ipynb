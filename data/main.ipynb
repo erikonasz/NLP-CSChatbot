{
 "cells": [
  {
   "attachments": {},
   "cell_type": "markdown",
   "metadata": {},
   "source": [
    "# Importing libraries"
   ]
  },
  {
   "cell_type": "code",
   "execution_count": 31,
   "metadata": {},
   "outputs": [],
   "source": [
    "import pandas as pd\n",
    "import tensorflow as tf\n",
    "import numpy as np\n",
    "\n",
    "from tensorflow.keras.preprocessing.text import Tokenizer\n",
    "from tensorflow.keras.preprocessing.sequence import pad_sequences\n",
    "from tensorflow.keras.utils import to_categorical\n",
    "from tensorflow.keras.layers import Embedding\n",
    "from tensorflow.keras.models import Sequential\n",
    "from tensorflow.keras.layers import Dense, LSTM\n",
    "from tensorflow.keras.models import load_model\n",
    "\n",
    "from sklearn.model_selection import train_test_split\n",
    "\n",
    "import nltk\n",
    "from nltk.stem import WordNetLemmatizer\n",
    "from nltk.corpus import stopwords"
   ]
  },
  {
   "attachments": {},
   "cell_type": "markdown",
   "metadata": {},
   "source": [
    "loading faq data"
   ]
  },
  {
   "cell_type": "code",
   "execution_count": 32,
   "metadata": {},
   "outputs": [],
   "source": [
    "data = pd.read_excel('faq.xlsx')\n",
    "data1 = pd.read_csv('dialogs.txt', delimiter='\\t', header=None, names=['Questions', 'Answers'])\n"
   ]
  },
  {
   "cell_type": "code",
   "execution_count": 33,
   "metadata": {},
   "outputs": [],
   "source": [
    "datas = pd.concat([data1, data], ignore_index=True)"
   ]
  },
  {
   "cell_type": "code",
   "execution_count": 34,
   "metadata": {},
   "outputs": [
    {
     "data": {
      "text/html": [
       "<div>\n",
       "<style scoped>\n",
       "    .dataframe tbody tr th:only-of-type {\n",
       "        vertical-align: middle;\n",
       "    }\n",
       "\n",
       "    .dataframe tbody tr th {\n",
       "        vertical-align: top;\n",
       "    }\n",
       "\n",
       "    .dataframe thead th {\n",
       "        text-align: right;\n",
       "    }\n",
       "</style>\n",
       "<table border=\"1\" class=\"dataframe\">\n",
       "  <thead>\n",
       "    <tr style=\"text-align: right;\">\n",
       "      <th></th>\n",
       "      <th>Questions</th>\n",
       "      <th>Answers</th>\n",
       "    </tr>\n",
       "  </thead>\n",
       "  <tbody>\n",
       "    <tr>\n",
       "      <th>0</th>\n",
       "      <td>hi, how are you doing?</td>\n",
       "      <td>i'm fine. how about yourself?</td>\n",
       "    </tr>\n",
       "    <tr>\n",
       "      <th>1</th>\n",
       "      <td>i'm fine. how about yourself?</td>\n",
       "      <td>i'm pretty good. thanks for asking.</td>\n",
       "    </tr>\n",
       "    <tr>\n",
       "      <th>2</th>\n",
       "      <td>i'm pretty good. thanks for asking.</td>\n",
       "      <td>no problem. so how have you been?</td>\n",
       "    </tr>\n",
       "    <tr>\n",
       "      <th>3</th>\n",
       "      <td>no problem. so how have you been?</td>\n",
       "      <td>i've been great. what about you?</td>\n",
       "    </tr>\n",
       "    <tr>\n",
       "      <th>4</th>\n",
       "      <td>i've been great. what about you?</td>\n",
       "      <td>i've been good. i'm in school right now.</td>\n",
       "    </tr>\n",
       "  </tbody>\n",
       "</table>\n",
       "</div>"
      ],
      "text/plain": [
       "                             Questions  \\\n",
       "0               hi, how are you doing?   \n",
       "1        i'm fine. how about yourself?   \n",
       "2  i'm pretty good. thanks for asking.   \n",
       "3    no problem. so how have you been?   \n",
       "4     i've been great. what about you?   \n",
       "\n",
       "                                    Answers  \n",
       "0             i'm fine. how about yourself?  \n",
       "1       i'm pretty good. thanks for asking.  \n",
       "2         no problem. so how have you been?  \n",
       "3          i've been great. what about you?  \n",
       "4  i've been good. i'm in school right now.  "
      ]
     },
     "execution_count": 34,
     "metadata": {},
     "output_type": "execute_result"
    }
   ],
   "source": [
    "# Exploring data\n",
    "pd.DataFrame(datas).head()"
   ]
  },
  {
   "attachments": {},
   "cell_type": "markdown",
   "metadata": {},
   "source": [
    "# Cleaning data"
   ]
  },
  {
   "cell_type": "code",
   "execution_count": 35,
   "metadata": {},
   "outputs": [],
   "source": [
    "# Removes duplicates\n",
    "data = data.drop_duplicates()"
   ]
  },
  {
   "cell_type": "code",
   "execution_count": 36,
   "metadata": {},
   "outputs": [],
   "source": [
    "# Tokenization\n",
    "tokenizer = Tokenizer()\n",
    "tokenizer.fit_on_texts(data['Questions'])\n",
    "sequences = tokenizer.texts_to_sequences(data['Questions'])"
   ]
  },
  {
   "attachments": {
    "image.png": {
     "image/png": "[encoded data removed]"
    }
   },
   "cell_type": "markdown",
   "metadata": {},
   "source": [
    "![image.png](attachment:image.png)"
   ]
  },
  {
   "cell_type": "code",
   "execution_count": 37,
   "metadata": {},
   "outputs": [],
   "source": [
    "# Converting text to lowercase\n",
    "data['Questions'] = data['Questions'].str.lower()"
   ]
  },
  {
   "attachments": {},
   "cell_type": "markdown",
   "metadata": {},
   "source": [
    "Downloading required NLTK libraries"
   ]
  },
  {
   "cell_type": "code",
   "execution_count": 38,
   "metadata": {},
   "outputs": [
    {
     "name": "stderr",
     "output_type": "stream",
     "text": [
      "[nltk_data] Downloading package stopwords to\n",
      "[nltk_data]     C:\\Users\\user\\AppData\\Roaming\\nltk_data...\n",
      "[nltk_data]   Package stopwords is already up-to-date!\n",
      "[nltk_data] Downloading package wordnet to\n",
      "[nltk_data]     C:\\Users\\user\\AppData\\Roaming\\nltk_data...\n",
      "[nltk_data]   Package wordnet is already up-to-date!\n"
     ]
    },
    {
     "data": {
      "text/plain": [
       "True"
      ]
     },
     "execution_count": 38,
     "metadata": {},
     "output_type": "execute_result"
    }
   ],
   "source": [
    "nltk.download('stopwords')\n",
    "nltk.download('wordnet')"
   ]
  },
  {
   "cell_type": "code",
   "execution_count": 39,
   "metadata": {},
   "outputs": [],
   "source": [
    "\n",
    "# stopwords using NLTK\n",
    "from nltk.corpus import stopwords\n",
    "stop_words = set(stopwords.words('english'))\n",
    "data['Questions'] = data['Questions'].apply(lambda x: ' '.join([word for word in x.split() if word not in stop_words]))\n",
    "\n",
    "\n",
    "# Lemmatization using NLTK\n",
    "from nltk.stem import WordNetLemmatizer\n",
    "lemmatizer = WordNetLemmatizer()\n",
    "data['Questions'] = data['Questions'].apply(lambda x: ' '.join([lemmatizer.lemmatize(word) for word in x.split()]))"
   ]
  },
  {
   "attachments": {},
   "cell_type": "markdown",
   "metadata": {},
   "source": [
    "Vectorization"
   ]
  },
  {
   "cell_type": "code",
   "execution_count": 40,
   "metadata": {},
   "outputs": [],
   "source": [
    "vocab_size = len(tokenizer.word_index) + 1\n",
    "max_len = 100  # Maximum length of input sequence\n",
    "input_sequences = pad_sequences(sequences, maxlen=max_len)"
   ]
  },
  {
   "attachments": {},
   "cell_type": "markdown",
   "metadata": {},
   "source": [
    "Splitting input/output"
   ]
  },
  {
   "cell_type": "code",
   "execution_count": 41,
   "metadata": {},
   "outputs": [],
   "source": [
    "# Preprocess 'Answers' column\n",
    "answers = data['Answers'].unique()  # Get unique answers\n",
    "answer_dict = {answer: index for index, answer in enumerate(answers)}  # Create a dictionary mapping answers to numerical categories\n",
    "data['Answers'] = data['Answers'].map(answer_dict)  # Map answers to numerical categories in the 'Answers' column"
   ]
  },
  {
   "cell_type": "code",
   "execution_count": 42,
   "metadata": {},
   "outputs": [],
   "source": [
    "# Splitting into input and output\n",
    "input_data = input_sequences\n",
    "output_data = to_categorical(data['Answers'])"
   ]
  },
  {
   "attachments": {},
   "cell_type": "markdown",
   "metadata": {},
   "source": [
    "# Training/Testing"
   ]
  },
  {
   "cell_type": "code",
   "execution_count": 43,
   "metadata": {},
   "outputs": [],
   "source": [
    "X_train, X_test, y_train, y_test = train_test_split(input_data, output_data, test_size=0.2, random_state=42)\n"
   ]
  },
  {
   "cell_type": "code",
   "execution_count": 44,
   "metadata": {},
   "outputs": [],
   "source": [
    "model = Sequential()\n",
    "model.add(Embedding(vocab_size, 100, input_length=max_len))\n",
    "model.add(LSTM(128))\n",
    "model.add(Dense(len(answer_dict), activation='softmax'))"
   ]
  },
  {
   "cell_type": "code",
   "execution_count": 45,
   "metadata": {},
   "outputs": [],
   "source": [
    "model.compile(loss='categorical_crossentropy', optimizer='adam', metrics=['accuracy'])\n"
   ]
  },
  {
   "attachments": {},
   "cell_type": "markdown",
   "metadata": {},
   "source": [
    "# Fitting - Training model"
   ]
  },
  {
   "cell_type": "code",
   "execution_count": 46,
   "metadata": {},
   "outputs": [
    {
     "name": "stdout",
     "output_type": "stream",
     "text": [
      "Epoch 1/20\n",
      "1/1 [==============================] - 3s 3s/step - loss: 2.3952 - accuracy: 0.1250 - val_loss: 2.4208 - val_accuracy: 0.0000e+00\n",
      "Epoch 2/20\n",
      "1/1 [==============================] - 0s 83ms/step - loss: 2.3783 - accuracy: 0.3750 - val_loss: 2.4438 - val_accuracy: 0.0000e+00\n",
      "Epoch 3/20\n",
      "1/1 [==============================] - 0s 75ms/step - loss: 2.3606 - accuracy: 0.3750 - val_loss: 2.4735 - val_accuracy: 0.0000e+00\n",
      "Epoch 4/20\n",
      "1/1 [==============================] - 0s 72ms/step - loss: 2.3410 - accuracy: 0.3750 - val_loss: 2.5158 - val_accuracy: 0.0000e+00\n",
      "Epoch 5/20\n",
      "1/1 [==============================] - 0s 80ms/step - loss: 2.3176 - accuracy: 0.3750 - val_loss: 2.5829 - val_accuracy: 0.0000e+00\n",
      "Epoch 6/20\n",
      "1/1 [==============================] - 0s 79ms/step - loss: 2.2878 - accuracy: 0.2500 - val_loss: 2.7064 - val_accuracy: 0.0000e+00\n",
      "Epoch 7/20\n",
      "1/1 [==============================] - 0s 76ms/step - loss: 2.2455 - accuracy: 0.2500 - val_loss: 2.9830 - val_accuracy: 0.0000e+00\n",
      "Epoch 8/20\n",
      "1/1 [==============================] - 0s 72ms/step - loss: 2.1813 - accuracy: 0.1250 - val_loss: 3.6152 - val_accuracy: 0.0000e+00\n",
      "Epoch 9/20\n",
      "1/1 [==============================] - 0s 81ms/step - loss: 2.1141 - accuracy: 0.1250 - val_loss: 4.3209 - val_accuracy: 0.0000e+00\n",
      "Epoch 10/20\n",
      "1/1 [==============================] - 0s 80ms/step - loss: 2.0831 - accuracy: 0.1250 - val_loss: 4.6762 - val_accuracy: 0.0000e+00\n",
      "Epoch 11/20\n",
      "1/1 [==============================] - 0s 74ms/step - loss: 2.0423 - accuracy: 0.1250 - val_loss: 4.9128 - val_accuracy: 0.0000e+00\n",
      "Epoch 12/20\n",
      "1/1 [==============================] - 0s 82ms/step - loss: 2.0145 - accuracy: 0.3750 - val_loss: 5.1044 - val_accuracy: 0.0000e+00\n",
      "Epoch 13/20\n",
      "1/1 [==============================] - 0s 77ms/step - loss: 2.0033 - accuracy: 0.2500 - val_loss: 5.2725 - val_accuracy: 0.0000e+00\n",
      "Epoch 14/20\n",
      "1/1 [==============================] - 0s 73ms/step - loss: 1.9932 - accuracy: 0.3750 - val_loss: 5.4292 - val_accuracy: 0.0000e+00\n",
      "Epoch 15/20\n",
      "1/1 [==============================] - 0s 77ms/step - loss: 1.9798 - accuracy: 0.2500 - val_loss: 5.5652 - val_accuracy: 0.0000e+00\n",
      "Epoch 16/20\n",
      "1/1 [==============================] - 0s 74ms/step - loss: 1.9591 - accuracy: 0.3750 - val_loss: 5.6662 - val_accuracy: 0.0000e+00\n",
      "Epoch 17/20\n",
      "1/1 [==============================] - 0s 80ms/step - loss: 1.9294 - accuracy: 0.5000 - val_loss: 5.7273 - val_accuracy: 0.0000e+00\n",
      "Epoch 18/20\n",
      "1/1 [==============================] - 0s 79ms/step - loss: 1.8989 - accuracy: 0.5000 - val_loss: 5.7462 - val_accuracy: 0.0000e+00\n",
      "Epoch 19/20\n",
      "1/1 [==============================] - 0s 75ms/step - loss: 1.8685 - accuracy: 0.6250 - val_loss: 5.7293 - val_accuracy: 0.0000e+00\n",
      "Epoch 20/20\n",
      "1/1 [==============================] - 0s 74ms/step - loss: 1.8348 - accuracy: 0.8750 - val_loss: 5.6762 - val_accuracy: 0.0000e+00\n"
     ]
    }
   ],
   "source": [
    "history = model.fit(X_train, y_train, validation_data=(X_test, y_test), epochs=20, batch_size=32)"
   ]
  },
  {
   "cell_type": "code",
   "execution_count": 47,
   "metadata": {},
   "outputs": [],
   "source": [
    "model.save(\"chatbot.h5\")"
   ]
  },
  {
   "cell_type": "code",
   "execution_count": 48,
   "metadata": {},
   "outputs": [],
   "source": [
    "#load model\n",
    "model = load_model(\"chatbot.h5\")"
   ]
  },
  {
   "cell_type": "code",
   "execution_count": 53,
   "metadata": {},
   "outputs": [
    {
     "name": "stdout",
     "output_type": "stream",
     "text": [
      "1/1 [==============================] - 0s 49ms/step\n"
     ]
    }
   ],
   "source": [
    "question = \"haha\"\n",
    "new_sequences = tokenizer.texts_to_sequences([question])\n",
    "new_input_sequences = pad_sequences(new_sequences, maxlen=max_len)\n",
    "predictions = model.predict(new_input_sequences)\n",
    "predicted_indices = np.argmax(predictions, axis=1)\n",
    "predicted_answers = [answers[index] for index in predicted_indices]"
   ]
  },
  {
   "cell_type": "code",
   "execution_count": 54,
   "metadata": {},
   "outputs": [
    {
     "name": "stdout",
     "output_type": "stream",
     "text": [
      "Question: haha\n",
      "Predicted Answer: Yes, you can cancel your order within 24 hours of placing it. Please contact our customer support team with your order details for assistance.\n"
     ]
    }
   ],
   "source": [
    "print(f\"Question: {question}\")\n",
    "print(f\"Predicted Answer: {predicted_answers[0]}\")"
   ]
  },
  {
   "cell_type": "code",
   "execution_count": 55,
   "metadata": {},
   "outputs": [
    {
     "name": "stdout",
     "output_type": "stream",
     "text": [
      "1/1 [==============================] - 0s 30ms/step\n",
      "Bot: Yes, you can cancel your order within 24 hours of placing it. Please contact our customer support team with your order details for assistance.\n",
      "1/1 [==============================] - 0s 27ms/step\n",
      "Bot: Yes, you can cancel your order within 24 hours of placing it. Please contact our customer support team with your order details for assistance.\n",
      "1/1 [==============================] - 0s 26ms/step\n",
      "Bot: Yes, you can cancel your order within 24 hours of placing it. Please contact our customer support team with your order details for assistance.\n",
      "1/1 [==============================] - 0s 29ms/step\n",
      "Bot: Yes, you can cancel your order within 24 hours of placing it. Please contact our customer support team with your order details for assistance.\n",
      "1/1 [==============================] - 0s 27ms/step\n",
      "Bot: Yes, you can cancel your order within 24 hours of placing it. Please contact our customer support team with your order details for assistance.\n",
      "1/1 [==============================] - 0s 30ms/step\n",
      "Bot: Yes, you can cancel your order within 24 hours of placing it. Please contact our customer support team with your order details for assistance.\n",
      "1/1 [==============================] - 0s 35ms/step\n",
      "Bot: Yes, you can cancel your order within 24 hours of placing it. Please contact our customer support team with your order details for assistance.\n",
      "1/1 [==============================] - 0s 30ms/step\n",
      "Bot: Yes, you can cancel your order within 24 hours of placing it. Please contact our customer support team with your order details for assistance.\n",
      "1/1 [==============================] - 0s 80ms/step\n",
      "Bot: Yes, you can cancel your order within 24 hours of placing it. Please contact our customer support team with your order details for assistance.\n",
      "1/1 [==============================] - 0s 26ms/step\n",
      "Bot: Yes, you can cancel your order within 24 hours of placing it. Please contact our customer support team with your order details for assistance.\n",
      "1/1 [==============================] - 0s 27ms/step\n"
     ]
    }
   ],
   "source": [
    "while True:\n",
    "    # Get user input\n",
    "    question = input(\"User: \")\n",
    "    \n",
    "    # Preprocess user input1\n",
    "    new_sequences = tokenizer.texts_to_sequences([question])\n",
    "    new_input_sequences = pad_sequences(new_sequences, maxlen=max_len)\n",
    "    \n",
    "    # Generate prediction\n",
    "    predictions = model.predict(new_input_sequences)\n",
    "    predicted_indices = np.argmax(predictions, axis=1)\n",
    "    predicted_answers = [answers[index] for index in predicted_indices]\n",
    "\n",
    "    # Output bot's response\n",
    "    print(\"Bot:\", predicted_answers[0])\n",
    "    \n",
    "    # Check for conversation termination\n",
    "    if question.lower() == \"exit\":\n",
    "        break"
   ]
  }
 ],
 "metadata": {
  "kernelspec": {
   "display_name": "Python 3",
   "language": "python",
   "name": "python3"
  },
  "language_info": {
   "codemirror_mode": {
    "name": "ipython",
    "version": 3
   },
   "file_extension": ".py",
   "mimetype": "text/x-python",
   "name": "python",
   "nbconvert_exporter": "python",
   "pygments_lexer": "ipython3",
   "version": "3.10.5"
  },
  "orig_nbformat": 4
 },
 "nbformat": 4,
 "nbformat_minor": 2
}
